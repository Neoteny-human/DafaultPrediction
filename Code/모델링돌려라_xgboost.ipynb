{
 "cells": [
  {
   "cell_type": "code",
   "execution_count": 408,
   "metadata": {},
   "outputs": [],
   "source": [
    "import pandas as pd\n",
    "import numpy as np\n",
    "from datetime import datetime, timedelta\n",
    "from dateutil.relativedelta import relativedelta\n",
    "import matplotlib.pyplot as plt\n",
    "import scipy.stats as stats\n",
    "import platform\n",
    "\n",
    "if platform.system() == 'Darwin':\n",
    "    plt.rc('font', family = 'AppleGothic')\n",
    "else:\n",
    "    plt.rc('font', family = 'Malgun Gothic')\n",
    "\n",
    "import warnings\n",
    "warnings.filterwarnings('ignore')\n",
    "\n",
    "import Modeling3\n",
    "import imp\n",
    "imp.reload(Modeling3)\n",
    "from Modeling3 import XGmodeling"
   ]
  },
  {
   "cell_type": "code",
   "execution_count": 409,
   "metadata": {},
   "outputs": [],
   "source": [
    "# 날짜 정보가 있는 데이터\n",
    "data = pd.read_csv('최종_동태.csv')\n",
    "data.index = pd.to_datetime(data['회계년도'])\n",
    "data.drop('회계년도', axis=1, inplace=True)"
   ]
  },
  {
   "cell_type": "code",
   "execution_count": 410,
   "metadata": {},
   "outputs": [
    {
     "data": {
      "text/plain": [
       "18"
      ]
     },
     "execution_count": 410,
     "metadata": {},
     "output_type": "execute_result"
    }
   ],
   "source": [
    "## feature selection을 통해 선택된 원래의 train data\n",
    "df_train_original = pd.read_csv('동태3겹rus_train_origin.csv')\n",
    "x_columns = list(df_train_original.drop(['부실여부'], axis=1).columns)\n",
    "x_columns_target = list(df_train_original.columns)\n",
    "len(x_columns_target)"
   ]
  },
  {
   "cell_type": "code",
   "execution_count": 411,
   "metadata": {},
   "outputs": [],
   "source": [
    "### 학습데이터, 테스트 데이터로 분할\n",
    "data_test = data[data.index >= datetime.strptime('2021-12-01', '%Y-%m-%d')]\n",
    "data_train = data[data.index < datetime.strptime('2021-12-01', '%Y-%m-%d')]\n",
    "\n",
    "# 회사명과 거래소 코드  정보를 남겨놓기 위한거\n",
    "data_name = data_train[['회사명', '거래소코드']]"
   ]
  },
  {
   "cell_type": "code",
   "execution_count": 412,
   "metadata": {},
   "outputs": [],
   "source": [
    "# 원래 데이터와 생성된 가짜 데이터가 섞여있는거\n",
    "df_train_temp = pd.read_csv('CTGAN_oversampled_train_1_1.csv')    ######################### 스모트 비율에 맞는거를 불러오도록 해"
   ]
  },
  {
   "cell_type": "code",
   "execution_count": 413,
   "metadata": {},
   "outputs": [],
   "source": [
    "# 가짜 데이터 생성\n",
    "temptemp = df_train_temp[x_columns_target].merge(df_train_original[x_columns_target], indicator=True, how='outer')\n",
    "df_train_generated = temptemp[temptemp['_merge'] == 'left_only']\n",
    "df_train_generated.drop(['_merge'], axis=1, inplace=True)"
   ]
  },
  {
   "cell_type": "code",
   "execution_count": 414,
   "metadata": {},
   "outputs": [],
   "source": [
    "# 진짜 데이터에 날짜 데이터 부여\n",
    "df_train_original.index = data_train.index"
   ]
  },
  {
   "cell_type": "code",
   "execution_count": 415,
   "metadata": {},
   "outputs": [],
   "source": [
    "# 테스트 데이터 불러오기\n",
    "df_test = pd.read_csv('최종_동태_test.csv')\n",
    "df_test.index = pd.to_datetime(df_test['회계년도'])\n",
    "df_test.drop('회계년도', axis=1, inplace=True)"
   ]
  },
  {
   "cell_type": "code",
   "execution_count": 416,
   "metadata": {},
   "outputs": [],
   "source": [
    "# 진짜 데이터를 4개의 폴드로 나눈거\n",
    "fold1 = df_train_original[(df_train_original.index >= datetime.strptime('2012-12-01', '%Y-%m-%d')) & (df_train_original.index <= datetime.strptime('2014-12-01', '%Y-%m-%d'))].index\n",
    "fold2 = df_train_original[(df_train_original.index >= datetime.strptime('2015-12-01', '%Y-%m-%d')) & (df_train_original.index <= datetime.strptime('2016-12-01', '%Y-%m-%d'))].index\n",
    "fold3 = df_train_original[(df_train_original.index >= datetime.strptime('2017-12-01', '%Y-%m-%d')) & (df_train_original.index <= datetime.strptime('2018-12-01', '%Y-%m-%d'))].index\n",
    "fold4 = df_train_original[(df_train_original.index >= datetime.strptime('2019-12-01', '%Y-%m-%d')) & (df_train_original.index <= datetime.strptime('2020-12-01', '%Y-%m-%d'))].index"
   ]
  },
  {
   "cell_type": "code",
   "execution_count": 417,
   "metadata": {},
   "outputs": [],
   "source": [
    "# 생성된 데이터에 대해 랜덤하게 날짜를 부여\n",
    "import random\n",
    "\n",
    "weights = [len(fold1), len(fold2), len(fold3), len(fold4)]\n",
    "values = [list(fold1.unique()), list(fold2.unique()), list(fold3.unique()), list(fold4.unique())]\n",
    "generated_index = []\n",
    "for i in range(len(df_train_generated.index)):\n",
    "\n",
    "    selected_list = random.choices(values, weights=weights, k=1)[0]\n",
    "    selected_value = random.choice(selected_list)\n",
    "    generated_index.append(selected_value)\n",
    "\n",
    "df_train_generated.index = generated_index"
   ]
  },
  {
   "cell_type": "code",
   "execution_count": 418,
   "metadata": {},
   "outputs": [],
   "source": [
    "df_train = pd.concat([df_train_original, df_train_generated], axis=0)"
   ]
  },
  {
   "cell_type": "code",
   "execution_count": 419,
   "metadata": {},
   "outputs": [],
   "source": [
    "# df_train = df_train_original"
   ]
  },
  {
   "cell_type": "code",
   "execution_count": 420,
   "metadata": {},
   "outputs": [
    {
     "data": {
      "text/plain": [
       "부실여부\n",
       "0.0    131308\n",
       "1.0    131308\n",
       "Name: count, dtype: int64"
      ]
     },
     "execution_count": 420,
     "metadata": {},
     "output_type": "execute_result"
    }
   ],
   "source": [
    "df_train['부실여부'].value_counts()"
   ]
  },
  {
   "cell_type": "code",
   "execution_count": 421,
   "metadata": {},
   "outputs": [],
   "source": [
    "xg = XGmodeling(df_train, df_test, x_columns)"
   ]
  },
  {
   "cell_type": "code",
   "execution_count": 422,
   "metadata": {},
   "outputs": [],
   "source": [
    "# params = xg.my_tuning()"
   ]
  },
  {
   "cell_type": "code",
   "execution_count": 423,
   "metadata": {},
   "outputs": [],
   "source": [
    "# best_params_df = pd.DataFrame([params])\n",
    "# best_params_df.to_csv('LR_동태2겹_리샘플링안함.csv', index=False)   ##################### 스모트 비율에 맞게 파일명 바꿔가면서 저장해"
   ]
  },
  {
   "cell_type": "code",
   "execution_count": 424,
   "metadata": {},
   "outputs": [],
   "source": [
    "#### 여기는 csv 파일 불러오는거니 일단은 신경 안써도 됨\n",
    "param_info = pd.read_csv('XGboost_동태3겹_ctgan1.csv')\n",
    "# weights = (df_train['부실여부'].value_counts()[0]/(df_train['부실여부'].value_counts()[1]))/2\n",
    "# param_info['scale_pos_weight'] = weights\n",
    "param_dict = {}\n",
    "for column in param_info:\n",
    "    param_dict[column] = param_info[column].iloc[0]"
   ]
  },
  {
   "cell_type": "code",
   "execution_count": 425,
   "metadata": {},
   "outputs": [
    {
     "data": {
      "text/plain": [
       "{'colsample_bytree': 0.9512247820145744,\n",
       " 'gamma': 0.2845634892328937,\n",
       " 'learning_rate': 0.1632477527456314,\n",
       " 'max_depth': 8,\n",
       " 'min_child_weight': 0.5624808560266128,\n",
       " 'n_estimators': 29,\n",
       " 'subsample': 0.8634009766779391}"
      ]
     },
     "execution_count": 425,
     "metadata": {},
     "output_type": "execute_result"
    }
   ],
   "source": [
    "param_dict"
   ]
  },
  {
   "cell_type": "code",
   "execution_count": 426,
   "metadata": {},
   "outputs": [
    {
     "data": {
      "image/png": "[encoded data removed]",
      "text/plain": [
       "<Figure size 1000x800 with 1 Axes>"
      ]
     },
     "metadata": {},
     "output_type": "display_data"
    },
    {
     "name": "stdout",
     "output_type": "stream",
     "text": [
      "Threshold : 0.1173918\n",
      "혼돈행렬 : [[28490  7965]\n",
      " [  531  1257]]\n",
      "정확도 : 0.7778\n",
      "정밀도 : 0.1363\n",
      "재현율 : 0.703\n",
      "roc_auc 스코어 : 0.8129\n",
      "f1 스코어 : 0.2283\n",
      "f2 스코어 : 0.3838\n",
      "\n",
      "\n"
     ]
    }
   ],
   "source": [
    "xg.my_modeling(param_dict)"
   ]
  },
  {
   "cell_type": "code",
   "execution_count": null,
   "metadata": {},
   "outputs": [],
   "source": []
  }
 ],
 "metadata": {
  "kernelspec": {
   "display_name": "Python 3",
   "language": "python",
   "name": "python3"
  },
  "language_info": {
   "codemirror_mode": {
    "name": "ipython",
    "version": 3
   },
   "file_extension": ".py",
   "mimetype": "text/x-python",
   "name": "python",
   "nbconvert_exporter": "python",
   "pygments_lexer": "ipython3",
   "version": "3.10.9"
  },
  "orig_nbformat": 4
 },
 "nbformat": 4,
 "nbformat_minor": 2
}
