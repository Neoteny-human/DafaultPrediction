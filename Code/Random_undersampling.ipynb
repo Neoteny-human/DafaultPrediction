{
 "cells": [
  {
   "cell_type": "code",
   "execution_count": 2,
   "metadata": {},
   "outputs": [],
   "source": [
    "import pandas as pd"
   ]
  },
  {
   "cell_type": "code",
   "execution_count": 21,
   "metadata": {},
   "outputs": [],
   "source": [
    "df = pd.read_csv('./data/최종_동태_이상치처리후_train.csv')"
   ]
  },
  {
   "cell_type": "code",
   "execution_count": 22,
   "metadata": {},
   "outputs": [
    {
     "name": "stdout",
     "output_type": "stream",
     "text": [
      "Class distribution after Random Under Sampling with 1:1 ratio: 부실여부\n",
      "0.0    5538\n",
      "1.0    5538\n",
      "Name: count, dtype: int64\n",
      "Class distribution after Random Under Sampling with 2:1 ratio: 부실여부\n",
      "0.0    11076\n",
      "1.0     5538\n",
      "Name: count, dtype: int64\n",
      "Class distribution after Random Under Sampling with 10:1 ratio: 부실여부\n",
      "0.0    55380\n",
      "1.0     5538\n",
      "Name: count, dtype: int64\n",
      "Class distribution after Random Under Sampling with 4:1 ratio: 부실여부\n",
      "0.0    22152\n",
      "1.0     5538\n",
      "Name: count, dtype: int64\n"
     ]
    }
   ],
   "source": [
    "from imblearn.under_sampling import RandomUnderSampler\n",
    "\n",
    "# 다수 클래스와 소수 클래스로 분리합니다.\n",
    "# majority_class = df[df['부실여부'] == 0]\n",
    "minority_class = len(df[df['부실여부'] == 1])\n",
    "\n",
    "y = df[['부실여부']]\n",
    "X = df.drop(columns=['부실여부','회사명','거래소코드','회계년도'])\n",
    "\n",
    "# 다수 클래스의 비율을 원하는대로 설정합니다.\n",
    "desired_ratios = {1, 2, 4, 10}  # 10:1 비율로 설정 예시\n",
    "\n",
    "\n",
    "for ratio in desired_ratios:\n",
    "    # 다수 클래스의 비율에 따라 원하는 샘플 개수를 계산합니다.\n",
    "    num_samples_to_keep = minority_class * ratio\n",
    "\n",
    "    # RandomUnderSampler를 사용하여 언더샘플링합니다.\n",
    "    rus = RandomUnderSampler(sampling_strategy={0: num_samples_to_keep})\n",
    "    X_resampled, y_resampled = rus.fit_resample(X, y)\n",
    "\n",
    "    # 언더샘플링된 데이터프레임을 생성합니다.\n",
    "    df_resampled = pd.DataFrame(X_resampled, columns=X.columns)\n",
    "    df_resampled['부실여부'] = y_resampled\n",
    "\n",
    "    # 샘플링 결과를 확인합니다.\n",
    "    print(f\"Class distribution after Random Under Sampling with {ratio}:1 ratio:\", df_resampled['부실여부'].value_counts())\n",
    "    # 각 비율에 해당하는 데이터프레임을 CSV 파일로 저장\n",
    "    df_resampled.to_csv(f'2겹rus_train_{ratio}.csv', encoding='utf-8-sig' , index=False)"
   ]
  },
  {
   "cell_type": "code",
   "execution_count": null,
   "metadata": {},
   "outputs": [],
   "source": []
  }
 ],
 "metadata": {
  "kernelspec": {
   "display_name": "Python 3",
   "language": "python",
   "name": "python3"
  },
  "language_info": {
   "codemirror_mode": {
    "name": "ipython",
    "version": 3
   },
   "file_extension": ".py",
   "mimetype": "text/x-python",
   "name": "python",
   "nbconvert_exporter": "python",
   "pygments_lexer": "ipython3",
   "version": "3.11.4"
  },
  "orig_nbformat": 4
 },
 "nbformat": 4,
 "nbformat_minor": 2
}
